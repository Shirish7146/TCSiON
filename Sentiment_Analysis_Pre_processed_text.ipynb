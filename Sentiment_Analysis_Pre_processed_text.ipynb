{
 "cells": [
  {
   "cell_type": "code",
   "execution_count": 1,
   "metadata": {
    "colab": {},
    "colab_type": "code",
    "id": "2ew7HTbPpCJH"
   },
   "outputs": [],
   "source": [
    "import tensorflow as tf\n",
    "from tensorflow import keras\n",
    "import tensorflow_datasets as tfds\n",
    "tfds.disable_progress_bar()\n",
    "\n",
    "import numpy as np"
   ]
  },
  {
   "cell_type": "code",
   "execution_count": 2,
   "metadata": {
    "colab": {
     "base_uri": "https://localhost:8080/",
     "height": 122
    },
    "colab_type": "code",
    "id": "wbIQ2wSeXSme",
    "outputId": "ac936d97-ccd6-4c91-ffc8-f204b45830bd"
   },
   "outputs": [
    {
     "name": "stdout",
     "output_type": "stream",
     "text": [
      "\u001b[1mDownloading and preparing dataset imdb_reviews/subwords8k/1.0.0 (download: 80.23 MiB, generated: Unknown size, total: 80.23 MiB) to /root/tensorflow_datasets/imdb_reviews/subwords8k/1.0.0...\u001b[0m\n",
      "Shuffling and writing examples to /root/tensorflow_datasets/imdb_reviews/subwords8k/1.0.0.incompleteD6GZRC/imdb_reviews-train.tfrecord\n",
      "Shuffling and writing examples to /root/tensorflow_datasets/imdb_reviews/subwords8k/1.0.0.incompleteD6GZRC/imdb_reviews-test.tfrecord\n",
      "Shuffling and writing examples to /root/tensorflow_datasets/imdb_reviews/subwords8k/1.0.0.incompleteD6GZRC/imdb_reviews-unsupervised.tfrecord\n",
      "\u001b[1mDataset imdb_reviews downloaded and prepared to /root/tensorflow_datasets/imdb_reviews/subwords8k/1.0.0. Subsequent calls will reuse this data.\u001b[0m\n"
     ]
    }
   ],
   "source": [
    "(train_data, test_data), info = tfds.load(\n",
    "    # Use the version pre-encoded with an ~8k vocabulary.\n",
    "    'imdb_reviews/subwords8k', \n",
    "    # Return the train/test datasets as a tuple.\n",
    "    split = (tfds.Split.TRAIN, tfds.Split.TEST),\n",
    "    # Return (example, label) pairs from the dataset (instead of a dictionary).\n",
    "    as_supervised = True,\n",
    "    # Also return the `info` structure. \n",
    "    with_info = True)"
   ]
  },
  {
   "cell_type": "code",
   "execution_count": 3,
   "metadata": {
    "colab": {},
    "colab_type": "code",
    "id": "EplYp5pNnW1S"
   },
   "outputs": [],
   "source": [
    "encoder = info.features['text'].encoder"
   ]
  },
  {
   "cell_type": "code",
   "execution_count": 4,
   "metadata": {
    "colab": {
     "base_uri": "https://localhost:8080/",
     "height": 34
    },
    "colab_type": "code",
    "id": "e7ACuHM5hFp3",
    "outputId": "6da6e973-3c05-408c-ab46-ceccf451e9e3"
   },
   "outputs": [
    {
     "name": "stdout",
     "output_type": "stream",
     "text": [
      "Vocabulary size: 8185\n"
     ]
    }
   ],
   "source": [
    "print ('Vocabulary size: {}'.format(encoder.vocab_size))"
   ]
  },
  {
   "cell_type": "code",
   "execution_count": 5,
   "metadata": {
    "colab": {
     "base_uri": "https://localhost:8080/",
     "height": 51
    },
    "colab_type": "code",
    "id": "cxnWQJijdGA1",
    "outputId": "03c1d9da-0715-4f63-cb05-37a6dbf1a876"
   },
   "outputs": [
    {
     "name": "stdout",
     "output_type": "stream",
     "text": [
      "Encoded text: [  62   18   41  604  927   65    3  644 7968   21]\n",
      "Label: 0\n"
     ]
    }
   ],
   "source": [
    "for train_example, train_label in train_data.take(1):\n",
    "  print('Encoded text:', train_example[:10].numpy())\n",
    "  print('Label:', train_label.numpy())"
   ]
  },
  {
   "cell_type": "code",
   "execution_count": 6,
   "metadata": {
    "colab": {},
    "colab_type": "code",
    "id": "SDRI_s_tX1Hk"
   },
   "outputs": [],
   "source": [
    "BUFFER_SIZE = 1000\n",
    "\n",
    "train_batches = (\n",
    "    train_data\n",
    "    .shuffle(BUFFER_SIZE)\n",
    "    .padded_batch(32))\n",
    "\n",
    "test_batches = (\n",
    "    test_data\n",
    "    .padded_batch(32))"
   ]
  },
  {
   "cell_type": "code",
   "execution_count": 7,
   "metadata": {
    "colab": {
     "base_uri": "https://localhost:8080/",
     "height": 255
    },
    "colab_type": "code",
    "id": "xpKOoWgu-llD",
    "outputId": "3d25aa91-cf9f-4064-cea1-2d53b8b62d26"
   },
   "outputs": [
    {
     "name": "stdout",
     "output_type": "stream",
     "text": [
      "Model: \"sequential\"\n",
      "_________________________________________________________________\n",
      "Layer (type)                 Output Shape              Param #   \n",
      "=================================================================\n",
      "embedding (Embedding)        (None, None, 16)          130960    \n",
      "_________________________________________________________________\n",
      "global_average_pooling1d (Gl (None, 16)                0         \n",
      "_________________________________________________________________\n",
      "dense (Dense)                (None, 1)                 17        \n",
      "=================================================================\n",
      "Total params: 130,977\n",
      "Trainable params: 130,977\n",
      "Non-trainable params: 0\n",
      "_________________________________________________________________\n"
     ]
    }
   ],
   "source": [
    "model = keras.Sequential([\n",
    "  keras.layers.Embedding(encoder.vocab_size, 16),\n",
    "  keras.layers.GlobalAveragePooling1D(),\n",
    "  keras.layers.Dense(1)])\n",
    "\n",
    "model.summary()"
   ]
  },
  {
   "cell_type": "code",
   "execution_count": 8,
   "metadata": {
    "colab": {},
    "colab_type": "code",
    "id": "Mr0GP-cQ-llN"
   },
   "outputs": [],
   "source": [
    "model.compile(optimizer='adam',\n",
    "              loss=tf.losses.BinaryCrossentropy(from_logits=True),\n",
    "              metrics=['accuracy'])"
   ]
  },
  {
   "cell_type": "code",
   "execution_count": 9,
   "metadata": {
    "colab": {
     "base_uri": "https://localhost:8080/",
     "height": 357
    },
    "colab_type": "code",
    "id": "tXSGrjWZ-llW",
    "outputId": "aec8cb74-fd29-40e8-a05c-63c0e9054953"
   },
   "outputs": [
    {
     "name": "stdout",
     "output_type": "stream",
     "text": [
      "Epoch 1/10\n",
      "782/782 [==============================] - 7s 9ms/step - loss: 0.6814 - accuracy: 0.5008 - val_loss: 0.6628 - val_accuracy: 0.5052\n",
      "Epoch 2/10\n",
      "782/782 [==============================] - 7s 8ms/step - loss: 0.6183 - accuracy: 0.5544 - val_loss: 0.5933 - val_accuracy: 0.6115\n",
      "Epoch 3/10\n",
      "782/782 [==============================] - 6s 8ms/step - loss: 0.5383 - accuracy: 0.6679 - val_loss: 0.5316 - val_accuracy: 0.7479\n",
      "Epoch 4/10\n",
      "782/782 [==============================] - 6s 8ms/step - loss: 0.4709 - accuracy: 0.7568 - val_loss: 0.4803 - val_accuracy: 0.7437\n",
      "Epoch 5/10\n",
      "782/782 [==============================] - 7s 8ms/step - loss: 0.4199 - accuracy: 0.8050 - val_loss: 0.4454 - val_accuracy: 0.7604\n",
      "Epoch 6/10\n",
      "782/782 [==============================] - 7s 8ms/step - loss: 0.3787 - accuracy: 0.8347 - val_loss: 0.4171 - val_accuracy: 0.7927\n",
      "Epoch 7/10\n",
      "782/782 [==============================] - 7s 9ms/step - loss: 0.3475 - accuracy: 0.8536 - val_loss: 0.3948 - val_accuracy: 0.8438\n",
      "Epoch 8/10\n",
      "782/782 [==============================] - 6s 8ms/step - loss: 0.3216 - accuracy: 0.8691 - val_loss: 0.3863 - val_accuracy: 0.8052\n",
      "Epoch 9/10\n",
      "782/782 [==============================] - 7s 8ms/step - loss: 0.3004 - accuracy: 0.8787 - val_loss: 0.3687 - val_accuracy: 0.8479\n",
      "Epoch 10/10\n",
      "782/782 [==============================] - 7s 9ms/step - loss: 0.2831 - accuracy: 0.8874 - val_loss: 0.3617 - val_accuracy: 0.8469\n"
     ]
    }
   ],
   "source": [
    "history = model.fit(train_batches,\n",
    "                    epochs = 10,\n",
    "                    validation_data = test_batches,\n",
    "                    validation_steps = 30)"
   ]
  },
  {
   "cell_type": "code",
   "execution_count": 10,
   "metadata": {
    "colab": {
     "base_uri": "https://localhost:8080/",
     "height": 68
    },
    "colab_type": "code",
    "id": "zOMKywn4zReN",
    "outputId": "72311d4f-5993-462b-f1f9-a6943e6ae053"
   },
   "outputs": [
    {
     "name": "stdout",
     "output_type": "stream",
     "text": [
      "782/782 [==============================] - 3s 4ms/step - loss: 0.3316 - accuracy: 0.8558\n",
      "Loss:  0.33164721727371216\n",
      "Accuracy:  0.8558400273323059\n"
     ]
    }
   ],
   "source": [
    "loss, accuracy = model.evaluate(test_batches)\n",
    "\n",
    "print(\"Loss: \", loss)\n",
    "print(\"Accuracy: \", accuracy)"
   ]
  },
  {
   "cell_type": "code",
   "execution_count": 11,
   "metadata": {
    "colab": {},
    "colab_type": "code",
    "id": "s3IIcEP6RmlT"
   },
   "outputs": [],
   "source": [
    "def pad_to_size(vec, size):\n",
    "  zeros = [0] * (size - len(vec))\n",
    "  vec.extend(zeros)\n",
    "  return vec"
   ]
  },
  {
   "cell_type": "code",
   "execution_count": 12,
   "metadata": {
    "colab": {},
    "colab_type": "code",
    "id": "Swp5zUV5Rmle"
   },
   "outputs": [],
   "source": [
    "def sample_predict(sample_pred_text, pad):\n",
    "  encoded_sample_pred_text = encoder.encode(sample_pred_text)\n",
    "\n",
    "  if pad:\n",
    "    encoded_sample_pred_text = pad_to_size(encoded_sample_pred_text, 64)\n",
    "  encoded_sample_pred_text = tf.cast(encoded_sample_pred_text, tf.float32)\n",
    "  predictions = model.predict(tf.expand_dims(encoded_sample_pred_text, 0))\n",
    "  print(\"Prediction Score: \", predictions)\n",
    "  output = \"\"\n",
    "  if predictions[0][0] >= 0.5: output = \"POSITIVE\"\n",
    "  elif predictions[0][0] <= -1: output = \"NEGATIVE\"\n",
    "  else: output = \"NEUTRAL\"\n",
    "\n",
    "  return output"
   ]
  },
  {
   "cell_type": "code",
   "execution_count": 13,
   "metadata": {
    "colab": {
     "base_uri": "https://localhost:8080/",
     "height": 51
    },
    "colab_type": "code",
    "id": "JJWRKzG1Rmlk",
    "outputId": "4b4e08ac-3432-4454-d055-2d0322604323"
   },
   "outputs": [
    {
     "name": "stdout",
     "output_type": "stream",
     "text": [
      "Prediction Score:  [[-18.626644]]\n",
      "NEGATIVE\n"
     ]
    }
   ],
   "source": [
    "sample_pred_text = ('The movie was not good. The animation and the graphics were terrible. I would not recommend this movie.')\n",
    "predictions = sample_predict(sample_pred_text, pad = False)\n",
    "print(predictions)"
   ]
  },
  {
   "cell_type": "code",
   "execution_count": 14,
   "metadata": {
    "colab": {
     "base_uri": "https://localhost:8080/",
     "height": 51
    },
    "colab_type": "code",
    "id": "5oEEAlQGRmlp",
    "outputId": "d5db15b2-d054-4cb3-ac94-728b171200c9"
   },
   "outputs": [
    {
     "name": "stdout",
     "output_type": "stream",
     "text": [
      "Prediction Score:  [[6.219588]]\n",
      "POSITIVE\n"
     ]
    }
   ],
   "source": [
    "sample_pred_text = ('The movie was cool. The animation and the graphics were out of this world. I would recommend this movie.')\n",
    "predictions = sample_predict(sample_pred_text, pad = False)\n",
    "print(predictions)"
   ]
  },
  {
   "cell_type": "code",
   "execution_count": 15,
   "metadata": {
    "colab": {
     "base_uri": "https://localhost:8080/",
     "height": 51
    },
    "colab_type": "code",
    "id": "OnI8ANXvRmlu",
    "outputId": "e1373ed6-1d86-4f70-f8e7-dbf36b2a9aeb"
   },
   "outputs": [
    {
     "name": "stdout",
     "output_type": "stream",
     "text": [
      "Prediction Score:  [[14.431341]]\n",
      "POSITIVE\n"
     ]
    }
   ],
   "source": [
    "sample_pred_text = ('This movie is awesome. The acting was incredicable. Highly recommend')\n",
    "predictions = sample_predict(sample_pred_text, pad = False)\n",
    "print(predictions)"
   ]
  },
  {
   "cell_type": "code",
   "execution_count": 16,
   "metadata": {
    "colab": {
     "base_uri": "https://localhost:8080/",
     "height": 51
    },
    "colab_type": "code",
    "id": "mbDeNUKiRmly",
    "outputId": "e3ae5c7e-0397-4590-cb3f-f18ec36edb1b"
   },
   "outputs": [
    {
     "name": "stdout",
     "output_type": "stream",
     "text": [
      "Prediction Score:  [[-20.629107]]\n",
      "NEGATIVE\n"
     ]
    }
   ],
   "source": [
    "sample_pred_text = ('This movie was so so. The acting was medicore. Kind of recommend')\n",
    "predictions = sample_predict(sample_pred_text, pad = False)\n",
    "print(predictions)"
   ]
  },
  {
   "cell_type": "code",
   "execution_count": 17,
   "metadata": {
    "colab": {
     "base_uri": "https://localhost:8080/",
     "height": 51
    },
    "colab_type": "code",
    "id": "0b69ZKbFRml6",
    "outputId": "a41edc01-698e-4d04-dd83-51574ad97dce"
   },
   "outputs": [
    {
     "name": "stdout",
     "output_type": "stream",
     "text": [
      "Prediction Score:  [[14.509823]]\n",
      "POSITIVE\n"
     ]
    }
   ],
   "source": [
    "# AVENGERS: ENDGAME 5 STAR COMMENT\n",
    "\n",
    "sample_pred_text = (\"\"\"I loved the movie a lot as I am great fan of marvel! Avengers: Endgame, which marks the end of the Infinity Saga, is spellbounding \n",
    "and surely an enthralling experience. The last film of the 'Avengers' franchise is remarkable and doesn't disappoint. Watching all our favourite superheroes \n",
    "in one film is just surpassing. Marvel has been working on this grand culmination ever since they released 'Iron Man'. I'm damn sure that all of their hard \n",
    "work and ambition has paid off. The directors, Anthony and Joe Russo, have made sure that it delivers an unforgettable experience. Christopher Markus and \n",
    "Stephen McFeely have come up with a screenplay full of epic and unpredictable moments. The film has a great balance of humour, emotions and action. \n",
    "The biggest strength of the film is the emotions. This is the most emotional superhero film I have ever seen. It's just perfect. The action sequences \n",
    "were jaw-dropping. The climatic battle left me amazed. It's just filled with memorable moments and cannot be described with words. The visuals are gorgeous \n",
    "and have a great impact on the film. The humour doesn't look exaggerated and manages to entertain throughout the film. The plot twists were very impressive \n",
    "and suspenseful. The film features many cameos of characters from the previous MCU films, which just gives a double dose of excitement. The background score \n",
    "gives me goosebumps, though I've listened to it several times. It was really clever to make changes to the characterization of the Hulk. I enjoyed that a lot. \n",
    "But the show-stealer is Robert Downey Jr, who plays the role of Tony Stark/Iron Man. The man who started it all proves yet again that there's no one else who \n",
    "can perfect his role. Do not miss his powerful moments in the final battle.\"\"\")\n",
    "\n",
    "predictions = sample_predict(sample_pred_text, pad = False)\n",
    "print(predictions)"
   ]
  },
  {
   "cell_type": "code",
   "execution_count": 18,
   "metadata": {
    "colab": {
     "base_uri": "https://localhost:8080/",
     "height": 51
    },
    "colab_type": "code",
    "id": "dUA6c1OpRml_",
    "outputId": "201950f6-6ffc-4483-e47d-5c4083a802b7"
   },
   "outputs": [
    {
     "name": "stdout",
     "output_type": "stream",
     "text": [
      "Prediction Score:  [[-7.1098347]]\n",
      "NEGATIVE\n"
     ]
    }
   ],
   "source": [
    "# AVENGERS: ENDGAME 3 STAR COMMENT\n",
    "\n",
    "sample_pred_text = (\"\"\"Overrated Sequel, But Still Good, But Violent! Beloved characters die, a character gets their head cut off, someone falls off a cliff, \n",
    "stabbings, punching, shooting, and more. The characters swear a bit. Even Captain America does! Role models include, Captain America, Iron Man, Hulk, AntMan, \n",
    "Black Widow, Hawkeye. Thor not so much because he SPOILER ALERT: got fat and played Fortnite the entire 5 year period. He was funny, but you may not want your \n",
    "kid wanting to say 'I want to be like the God of Thunder and play fortnite all day'. Characters did kiss. Thor drank a lot of beer. Captain America proved \n",
    "himself of something but not saying what. With reviewing the movie, the first half hour was good, then the next half hour was slow. The second half hour was \n",
    "pretty good, but the last hour was epic. From just starting out with Iron Man, Cap, Thor, and Hulk, to this amazing fight scene at the end, Avengers Endgame \n",
    "really pulled it off. Overall, pretty good for families and a good finale for the Infinity Saga.\"\"\")\n",
    "\n",
    "predictions = sample_predict(sample_pred_text, pad = False)\n",
    "print(predictions)"
   ]
  },
  {
   "cell_type": "code",
   "execution_count": 19,
   "metadata": {
    "colab": {
     "base_uri": "https://localhost:8080/",
     "height": 51
    },
    "colab_type": "code",
    "id": "FtkvFriRRmmG",
    "outputId": "6c1f0ba0-b9b9-4bdb-acbe-0bbb0baa7112"
   },
   "outputs": [
    {
     "name": "stdout",
     "output_type": "stream",
     "text": [
      "Prediction Score:  [[-2.803657]]\n",
      "NEGATIVE\n"
     ]
    }
   ],
   "source": [
    "# AVENGERS: ENDGAME 1 STAR COMMENT\n",
    "\n",
    "sample_pred_text = (\"\"\"Disappointing storyline - too many sad crying scenes - too much shit swearing compared to other great Marvel movies! Even as \n",
    "an adult I don't appreciate swearing in movies. There are MANY people who don't use cuss words in their lives except maybe in adrenaline traffic moments. \n",
    "To hear Robert Downey jr's 'moment' with his young child using and laughing at the fact that she uses 'adult' language is teaching the new impressionable \n",
    "ages watching this, that it is okay when it isn't. They seemed to want to use their cuss word quota for the rating for this movie. Sad writing when that's \n",
    "how they get their best laughs from audience. Bring back your creative, quirky writers from the two The Defenders of the Galaxy. Now that's smart character \n",
    "development and writing without resorting to desperate shock value. We have loved every movie of that series and eagerly await the next one. The Storyline \n",
    "was soooo boring in this. All of us watching kept hoping it would improve and it didn't. I think the only real laugh we had was the encounter on the ship \n",
    "between Quill (StarLord) and Thor. Subtle, but funny. We all could've cared less if anyone died. That's how checked out we were watching this LONG 3 HRS!!! \n",
    "Why! It was torture and I felt robbed of my time in the end.\"\"\")\n",
    "\n",
    "predictions = sample_predict(sample_pred_text, pad = False)\n",
    "print(predictions)"
   ]
  },
  {
   "cell_type": "code",
   "execution_count": 20,
   "metadata": {
    "colab": {
     "base_uri": "https://localhost:8080/",
     "height": 51
    },
    "colab_type": "code",
    "id": "32xvcogTRmmL",
    "outputId": "5d821ecd-cf1f-4634-a69f-023996c95aa2"
   },
   "outputs": [
    {
     "name": "stdout",
     "output_type": "stream",
     "text": [
      "Prediction Score:  [[0.6572151]]\n",
      "POSITIVE\n"
     ]
    }
   ],
   "source": [
    "sample_pred_text = (\"\"\"Superhero comics, and much of their adaptations, have long taken an outsized, soap opera-like approach to storytelling. \n",
    "At their best, they can take these fantastical ideas and make them emotionally resonant, even if there’s obviously no real-world phenomenon to connect them to. \n",
    "In some respects, Endgame pulls this off beautifully, like how the character Nebula confronts her past self through time travel, giving physical form to \n",
    "her personal growth. But as fun as the movie is, there’s an undeniable hollowness at its core induced by its unwillingness to follow through on certain \n",
    "ideas and symbols.\"\"\")\n",
    "\n",
    "predictions = sample_predict(sample_pred_text, pad = False)\n",
    "print(predictions)"
   ]
  },
  {
   "cell_type": "code",
   "execution_count": 21,
   "metadata": {
    "colab": {
     "base_uri": "https://localhost:8080/",
     "height": 51
    },
    "colab_type": "code",
    "id": "3Wol2gYfRmmQ",
    "outputId": "4e4e88a9-3a94-4588-9400-421064a1cf32"
   },
   "outputs": [
    {
     "name": "stdout",
     "output_type": "stream",
     "text": [
      "Prediction Score:  [[7.7420597]]\n",
      "POSITIVE\n"
     ]
    }
   ],
   "source": [
    "# AUGUST to JUNE: Bringing Life to School (http://augusttojune.com/press-media/audience-comments/)\n",
    "\n",
    "sample_pred_text = (\"\"\"The film's ever-present focus on the 'big picture' of education and life! was much appreciated here and provided lots of talking points. \n",
    "In particular, we really liked seeing how you conferenced with parents, e.g., paraphrased:  'In a few more years, none of you will even remember who the early \n",
    "readers and late readers were', the overall approach to literacy- holistically focused rather than merely skills-focused, the ample time you provided to social \n",
    "growth/experiences/conflict resolution, and the fact that you did not choose to hide those moments where you, as a teacher, needed to separate or redirect \n",
    "children when disruptive.  There is a whole, whole, whole lot more that I wish to say! It is sad to know that this marked your retirement, but very \n",
    "heart-warming to know that your school carries on.\"\"\")\n",
    "\n",
    "predictions = sample_predict(sample_pred_text, pad = False)\n",
    "print(predictions)"
   ]
  },
  {
   "cell_type": "code",
   "execution_count": 22,
   "metadata": {
    "colab": {
     "base_uri": "https://localhost:8080/",
     "height": 34
    },
    "colab_type": "code",
    "id": "mW9JBqm8TCO1",
    "outputId": "a4d25536-0083-444c-b779-eaddeff8e73a"
   },
   "outputs": [
    {
     "data": {
      "text/plain": [
       "dict_keys(['loss', 'accuracy', 'val_loss', 'val_accuracy'])"
      ]
     },
     "execution_count": 22,
     "metadata": {
      "tags": []
     },
     "output_type": "execute_result"
    }
   ],
   "source": [
    "history_dict = history.history\n",
    "history_dict.keys()"
   ]
  },
  {
   "cell_type": "code",
   "execution_count": 23,
   "metadata": {
    "colab": {
     "base_uri": "https://localhost:8080/",
     "height": 295
    },
    "colab_type": "code",
    "id": "nGoYf2Js-lle",
    "outputId": "a686b995-9f8a-4138-aece-bb0bc5f555ef"
   },
   "outputs": [
    {
     "data": {
      "image/png": "[encoded data removed]",
      "text/plain": [
       "<Figure size 432x288 with 1 Axes>"
      ]
     },
     "metadata": {
      "needs_background": "light",
      "tags": []
     },
     "output_type": "display_data"
    }
   ],
   "source": [
    "import matplotlib.pyplot as plt\n",
    "\n",
    "acc = history_dict['accuracy']\n",
    "val_acc = history_dict['val_accuracy']\n",
    "loss = history_dict['loss']\n",
    "val_loss = history_dict['val_loss']\n",
    "\n",
    "epochs = range(1, len(acc) + 1)\n",
    "\n",
    "# \"bo\" is for \"blue dot\"\n",
    "plt.plot(epochs, loss, 'bo', label='Training loss')\n",
    "# b is for \"solid blue line\"\n",
    "plt.plot(epochs, val_loss, 'b', label='Validation loss')\n",
    "plt.title('Training and validation loss')\n",
    "plt.xlabel('Epochs')\n",
    "plt.ylabel('Loss')\n",
    "plt.legend()\n",
    "\n",
    "plt.show()"
   ]
  },
  {
   "cell_type": "code",
   "execution_count": 24,
   "metadata": {
    "colab": {
     "base_uri": "https://localhost:8080/",
     "height": 295
    },
    "colab_type": "code",
    "id": "6hXx-xOv-llh",
    "outputId": "13d7da40-cdd6-4bdc-94c8-1d82cef56c68"
   },
   "outputs": [
    {
     "data": {
      "image/png": "[encoded data removed]",
      "text/plain": [
       "<Figure size 432x288 with 1 Axes>"
      ]
     },
     "metadata": {
      "needs_background": "light",
      "tags": []
     },
     "output_type": "display_data"
    }
   ],
   "source": [
    "plt.clf()   # clear figure\n",
    "\n",
    "plt.plot(epochs, acc, 'bo', label='Training acc')\n",
    "plt.plot(epochs, val_acc, 'b', label='Validation acc')\n",
    "plt.title('Training and validation accuracy')\n",
    "plt.xlabel('Epochs')\n",
    "plt.ylabel('Accuracy')\n",
    "plt.legend(loc='lower right')\n",
    "\n",
    "plt.show()"
   ]
  }
 ],
 "metadata": {
  "colab": {
   "collapsed_sections": [],
   "name": "Sentiment_Analysis_Pre-processed_text.ipynb",
   "provenance": []
  },
  "kernelspec": {
   "display_name": "Python 3 (ipykernel)",
   "language": "python",
   "name": "python3"
  },
  "language_info": {
   "codemirror_mode": {
    "name": "ipython",
    "version": 3
   },
   "file_extension": ".py",
   "mimetype": "text/x-python",
   "name": "python",
   "nbconvert_exporter": "python",
   "pygments_lexer": "ipython3",
   "version": "3.11.2"
  }
 },
 "nbformat": 4,
 "nbformat_minor": 1
}
